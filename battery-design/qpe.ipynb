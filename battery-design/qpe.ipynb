{
 "cells": [
  {
   "cell_type": "markdown",
   "id": "17a67674-c9b5-4326-953d-0f99460057d5",
   "metadata": {},
   "source": [
    "## Installs and imports"
   ]
  },
  {
   "cell_type": "code",
   "execution_count": 1,
   "id": "67334da6-6aab-4348-a2d3-15288c6955eb",
   "metadata": {},
   "outputs": [
    {
     "data": {
      "application/javascript": [
       "// Copyright (c) Microsoft Corporation.\n",
       "// Licensed under the MIT License.\n",
       "\n",
       "// This file provides CodeMirror syntax highlighting for Q# magic cells\n",
       "// in classic Jupyter Notebooks. It does nothing in other (Jupyter Notebook 7,\n",
       "// VS Code, Azure Notebooks, etc.) environments.\n",
       "\n",
       "// Detect the prerequisites and do nothing if they don't exist.\n",
       "if (window.require && window.CodeMirror && window.Jupyter) {\n",
       "  // The simple mode plugin for CodeMirror is not loaded by default, so require it.\n",
       "  window.require([\"codemirror/addon/mode/simple\"], function defineMode() {\n",
       "    let rules = [\n",
       "      {\n",
       "        token: \"comment\",\n",
       "        regex: /(\\/\\/).*/,\n",
       "        beginWord: false,\n",
       "      },\n",
       "      {\n",
       "        token: \"string\",\n",
       "        regex: String.raw`^\\\"(?:[^\\\"\\\\]|\\\\[\\s\\S])*(?:\\\"|$)`,\n",
       "        beginWord: false,\n",
       "      },\n",
       "      {\n",
       "        token: \"keyword\",\n",
       "        regex: String.raw`(namespace|open|as|operation|function|body|adjoint|newtype|controlled|internal)\\b`,\n",
       "        beginWord: true,\n",
       "      },\n",
       "      {\n",
       "        token: \"keyword\",\n",
       "        regex: String.raw`(if|elif|else|repeat|until|fixup|for|in|return|fail|within|apply)\\b`,\n",
       "        beginWord: true,\n",
       "      },\n",
       "      {\n",
       "        token: \"keyword\",\n",
       "        regex: String.raw`(Adjoint|Controlled|Adj|Ctl|is|self|auto|distribute|invert|intrinsic)\\b`,\n",
       "        beginWord: true,\n",
       "      },\n",
       "      {\n",
       "        token: \"keyword\",\n",
       "        regex: String.raw`(let|set|use|borrow|mutable)\\b`,\n",
       "        beginWord: true,\n",
       "      },\n",
       "      {\n",
       "        token: \"operatorKeyword\",\n",
       "        regex: String.raw`(not|and|or)\\b|(w/)`,\n",
       "        beginWord: true,\n",
       "      },\n",
       "      {\n",
       "        token: \"operatorKeyword\",\n",
       "        regex: String.raw`(=)|(!)|(<)|(>)|(\\+)|(-)|(\\*)|(/)|(\\^)|(%)|(\\|)|(&&&)|(~~~)|(\\.\\.\\.)|(\\.\\.)|(\\?)`,\n",
       "        beginWord: false,\n",
       "      },\n",
       "      {\n",
       "        token: \"meta\",\n",
       "        regex: String.raw`(Int|BigInt|Double|Bool|Qubit|Pauli|Result|Range|String|Unit)\\b`,\n",
       "        beginWord: true,\n",
       "      },\n",
       "      {\n",
       "        token: \"atom\",\n",
       "        regex: String.raw`(true|false|Pauli(I|X|Y|Z)|One|Zero)\\b`,\n",
       "        beginWord: true,\n",
       "      },\n",
       "    ];\n",
       "    let simpleRules = [];\n",
       "    for (let rule of rules) {\n",
       "      simpleRules.push({\n",
       "        token: rule.token,\n",
       "        regex: new RegExp(rule.regex, \"g\"),\n",
       "        sol: rule.beginWord,\n",
       "      });\n",
       "      if (rule.beginWord) {\n",
       "        // Need an additional rule due to the fact that CodeMirror simple mode doesn't work with ^ token\n",
       "        simpleRules.push({\n",
       "          token: rule.token,\n",
       "          regex: new RegExp(String.raw`\\W` + rule.regex, \"g\"),\n",
       "          sol: false,\n",
       "        });\n",
       "      }\n",
       "    }\n",
       "\n",
       "    // Register the mode defined above with CodeMirror\n",
       "    window.CodeMirror.defineSimpleMode(\"qsharp\", { start: simpleRules });\n",
       "    window.CodeMirror.defineMIME(\"text/x-qsharp\", \"qsharp\");\n",
       "\n",
       "    // Tell Jupyter to associate %%qsharp magic cells with the qsharp mode\n",
       "    window.Jupyter.CodeCell.options_default.highlight_modes[\"qsharp\"] = {\n",
       "      reg: [/^%%qsharp/],\n",
       "    };\n",
       "\n",
       "    // Force re-highlighting of all cells the first time this code runs\n",
       "    for (const cell of window.Jupyter.notebook.get_cells()) {\n",
       "      cell.auto_highlight();\n",
       "    }\n",
       "  });\n",
       "}\n"
      ],
      "text/plain": []
     },
     "metadata": {},
     "output_type": "display_data"
    }
   ],
   "source": [
    "from pyscf import gto, scf, ao2mo\n",
    "import numpy as np\n",
    "from qiskit_nature.units import DistanceUnit\n",
    "from qiskit_nature.second_q.hamiltonians import ElectronicEnergy\n",
    "from qiskit_nature.second_q.drivers import PySCFDriver\n",
    "import numpy as np\n",
    "import matplotlib.pyplot as plt\n",
    "import matplotlib.animation as animation\n",
    "from mpl_toolkits.mplot3d import Axes3D\n",
    "from qiskit_aer import Aer\n",
    "from qiskit_algorithms import VQE\n",
    "from qiskit.circuit.library import TwoLocal\n",
    "from qiskit.quantum_info import SparsePauliOp\n",
    "from qiskit_nature.second_q.mappers import JordanWignerMapper\n",
    "from qiskit.primitives import Estimator\n",
    "from qiskit_nature.second_q.operators import FermionicOp\n",
    "from qiskit_algorithms.optimizers import SPSA\n",
    "from qiskit_nature.second_q.algorithms import QEOM, GroundStateSolver\n",
    "from IPython.display import Image\n",
    "from qiskit_algorithms import VQE\n",
    "from qiskit_nature.second_q.algorithms import GroundStateEigensolver\n",
    "from qiskit_nature.second_q.problems import BaseProblem\n",
    "from qiskit import QuantumCircuit, QuantumRegister, ClassicalRegister\n",
    "from qiskit.circuit.library import QFT\n",
    "from qiskit.quantum_info import SparsePauliOp\n",
    "import numpy as np\n",
    "from qiskit import QuantumCircuit\n",
    "from qsharp.interop.qiskit import estimate"
   ]
  },
  {
   "cell_type": "code",
   "execution_count": 2,
   "id": "6f64ffb8-55e9-4aae-b668-edd7ef21284b",
   "metadata": {},
   "outputs": [],
   "source": [
    "import warnings\n",
    "warnings.filterwarnings('ignore', category=DeprecationWarning)"
   ]
  },
  {
   "cell_type": "markdown",
   "id": "cc19cd95-fc80-400e-9fef-a05505f959d2",
   "metadata": {},
   "source": [
    "## Construct QPE circuit for large molecules"
   ]
  },
  {
   "cell_type": "code",
   "execution_count": 3,
   "id": "15c54b82-6250-4fab-bccd-9f239360c686",
   "metadata": {},
   "outputs": [],
   "source": [
    "def get_fermionic_op(atom_string: str, spin: int, charge: int, basis: str = \"sto-3g\"):\n",
    "    driver = PySCFDriver(\n",
    "        atom=atom_string,\n",
    "        basis=basis,\n",
    "        charge=charge,\n",
    "        spin=spin,\n",
    "        unit=DistanceUnit.ANGSTROM,\n",
    "    )\n",
    "    problem = driver.run()\n",
    "\n",
    "    # Convert to FermionicOp\n",
    "    atom_hamiltonian = problem.second_q_ops()\n",
    "\n",
    "    return atom_hamiltonian[0]"
   ]
  },
  {
   "cell_type": "code",
   "execution_count": 4,
   "id": "e79a82d1-790d-4ca8-a306-72b222af7db8",
   "metadata": {},
   "outputs": [],
   "source": [
    "StringH2  = \"H 0 0 0; H 0 0 0.735\"\n",
    "h2_mol_op = get_fermionic_op(\n",
    "    atom_string = StringH2,\n",
    "    spin        = 0,\n",
    "    charge      = 0\n",
    ")\n",
    "\n",
    "StringLiH = \"Li 0 0 0; H 0.5 0.5 0.5\"\n",
    "lih_mol_op = get_fermionic_op(\n",
    "    atom_string = StringLiH,\n",
    "    spin        = 0,\n",
    "    charge      = 0\n",
    ")"
   ]
  },
  {
   "cell_type": "code",
   "execution_count": 5,
   "id": "d590bcf8-5372-442f-9ea3-050658774310",
   "metadata": {},
   "outputs": [],
   "source": [
    "mapper       = JordanWignerMapper()\n",
    "h2_qubit_op  = mapper.map(h2_mol_op)\n",
    "lih_qubit_op = mapper.map(lih_mol_op)"
   ]
  },
  {
   "cell_type": "code",
   "execution_count": 12,
   "id": "87f995e0-780b-4993-9441-9187537fa7be",
   "metadata": {},
   "outputs": [],
   "source": [
    "def generate_controlled_time_evolution(hamiltonian: SparsePauliOp, time: float):\n",
    "    n_qubits = hamiltonian.num_qubits\n",
    "    ctrl     = QuantumRegister(1)\n",
    "    system   = QuantumRegister(n_qubits)\n",
    "    circuit  = QuantumCircuit(ctrl, system)\n",
    "\n",
    "    for pauli_string, coeff in zip(hamiltonian.paulis, hamiltonian.coeffs):\n",
    "        # For each Pauli term, we build a controlled e^{-i c P t}\n",
    "        pauli_label = pauli_string.to_label()\n",
    "        theta = -2 * coeff.real * time\n",
    "\n",
    "        # Basis change to Z\n",
    "        for i, p in enumerate(pauli_label):\n",
    "            if p == 'X':\n",
    "                circuit.h(system[i])\n",
    "            elif p == 'Y':\n",
    "                circuit.sdg(system[i])\n",
    "                circuit.h(system[i])\n",
    "            # If 'Z' or 'I', no basis change needed\n",
    "\n",
    "        # Controlled multi-Z rotation\n",
    "        qubit_indices = [i for i, p in enumerate(pauli_label) if p != 'I']\n",
    "        if qubit_indices:\n",
    "            if len(qubit_indices) == 1:\n",
    "                target = qubit_indices[0]\n",
    "                circuit.cx(ctrl[0], system[target])\n",
    "                circuit.rz(theta, system[target])\n",
    "                circuit.cx(ctrl[0], system[target])\n",
    "            else:\n",
    "                # Multi-qubit controlled rotation\n",
    "                for q in qubit_indices[:-1]:\n",
    "                    circuit.cx(ctrl[0], system[q])\n",
    "                circuit.mcx(qubit_indices[:-1], system[qubit_indices[-1]])\n",
    "                circuit.rz(theta, system[qubit_indices[-1]])\n",
    "                circuit.mcx(qubit_indices[:-1], system[qubit_indices[-1]])\n",
    "                for q in reversed(qubit_indices[:-1]):\n",
    "                    circuit.cx(ctrl[0], system[q])\n",
    "\n",
    "        # Undo basis change\n",
    "        for i, p in enumerate(pauli_label):\n",
    "            if p == 'X':\n",
    "                circuit.h(system[i])\n",
    "            elif p == 'Y':\n",
    "                circuit.h(system[i])\n",
    "                circuit.s(system[i])\n",
    "\n",
    "    return circuit\n",
    "\n",
    "def build_qpe_circuit(qubit_hamiltonian: SparsePauliOp, n_ancillas: int = 5, t0: float = 1.0):\n",
    "    \"\"\"Build the full QPE circuit for a given qubit Hamiltonian.\"\"\"\n",
    "    n_system = qubit_hamiltonian.num_qubits\n",
    "\n",
    "    # Create quantum registers\n",
    "    ancillas = QuantumRegister(n_ancillas)\n",
    "    system = QuantumRegister(n_system)\n",
    "    classical = ClassicalRegister(n_ancillas)\n",
    "    qc = QuantumCircuit(ancillas, system, classical)\n",
    "\n",
    "    # Step 1: Hadamard gates on ancillas\n",
    "    qc.h(ancillas)\n",
    "\n",
    "    # Step 2: Prepare system (for now identity, you can load HF state here)\n",
    "    # Optionally prepare a Hartree-Fock state if desired\n",
    "\n",
    "    # Step 3: Controlled evolutions\n",
    "    for k in range(n_ancillas):\n",
    "        t = (2 ** k) * t0\n",
    "        controlled_evo = generate_controlled_time_evolution(qubit_hamiltonian, t)\n",
    "        qc.compose(controlled_evo, qubits=[ancillas[k]] + system[:], inplace=True)\n",
    "\n",
    "    # Step 4: Inverse QFT\n",
    "    qc.compose(QFT(num_qubits=n_ancillas, inverse=True, do_swaps=True), ancillas, inplace=True)\n",
    "\n",
    "    # Step 5: Measure ancillas\n",
    "    qc.measure(ancillas, classical)\n",
    "\n",
    "    return qc\n",
    "\n",
    "def estimate_resources(quantum_circuit):\n",
    "    result = estimate(quantum_circuit)\n",
    "    return result['physicalCounts']['physicalQubits'], result['physicalCounts']['runtime']"
   ]
  },
  {
   "cell_type": "code",
   "execution_count": 13,
   "id": "b3804cd2-c3fb-4b6f-b5fd-493c00bc4012",
   "metadata": {},
   "outputs": [],
   "source": [
    "h2_circ = build_qpe_circuit(h2_qubit_op)\n",
    "h2_circ = h2_circ.decompose().decompose()"
   ]
  },
  {
   "cell_type": "code",
   "execution_count": null,
   "id": "f180cf61-a0bc-4e16-9222-919acf37b4c5",
   "metadata": {},
   "outputs": [],
   "source": []
  },
  {
   "cell_type": "code",
   "execution_count": null,
   "id": "40655cb1-263e-41bc-b025-88e6d593f820",
   "metadata": {},
   "outputs": [],
   "source": []
  },
  {
   "cell_type": "code",
   "execution_count": null,
   "id": "5b4f7816-01bf-4028-b3ef-6b86163aa89f",
   "metadata": {},
   "outputs": [],
   "source": []
  },
  {
   "cell_type": "code",
   "execution_count": 14,
   "id": "cd72f3fe-596a-4982-97ef-1fb714a0d888",
   "metadata": {},
   "outputs": [
    {
     "name": "stdout",
     "output_type": "stream",
     "text": [
      "QPE circuit for H2 molecule:\n",
      "  Original Circuit: Qubits = 9\n",
      "  Fault Tolerant Circuit: Qubits = 426600, Runtime = 217470000\n"
     ]
    }
   ],
   "source": [
    "h2_ft_qc_qubits, h2_ft_qc_runtime = estimate_resources(h2_circ)\n",
    "print(f\"QPE circuit for H2 molecule:\")\n",
    "print(f\"  Original Circuit: Qubits = {h2_circ.num_qubits}\")\n",
    "print(f\"  Fault Tolerant Circuit: Qubits = {h2_ft_qc_qubits}, Runtime = {h2_ft_qc_runtime}\")"
   ]
  },
  {
   "cell_type": "code",
   "execution_count": null,
   "id": "98fb5a95-a97b-4e4a-bf06-8a92fc57cb7c",
   "metadata": {},
   "outputs": [],
   "source": []
  },
  {
   "cell_type": "code",
   "execution_count": 15,
   "id": "7d6deaff-aa4b-46de-9d6e-6dc9ae955135",
   "metadata": {},
   "outputs": [],
   "source": [
    "lih_circ = build_qpe_circuit(lih_qubit_op)\n",
    "lih_circ = lih_circ.decompose().decompose()"
   ]
  },
  {
   "cell_type": "code",
   "execution_count": 16,
   "id": "69508bb2-72cc-427f-b9e3-ed590b298b26",
   "metadata": {},
   "outputs": [
    {
     "name": "stdout",
     "output_type": "stream",
     "text": [
      "QPE circuit for LiH molecule:\n",
      "  Original Circuit: Qubits = 17\n",
      "  Fault Tolerant Circuit: Qubits = 807814, Runtime = 184222920000\n"
     ]
    }
   ],
   "source": [
    "lih_ft_qc_qubits, lih_ft_qc_runtime = estimate_resources(lih_circ)\n",
    "print(f\"QPE circuit for LiH molecule:\")\n",
    "print(f\"  Original Circuit: Qubits = {lih_circ.num_qubits}\")\n",
    "print(f\"  Fault Tolerant Circuit: Qubits = {lih_ft_qc_qubits}, Runtime = {lih_ft_qc_runtime}\")"
   ]
  },
  {
   "cell_type": "code",
   "execution_count": null,
   "id": "32c2d1e3-ede4-4236-bcb2-85e74afa5416",
   "metadata": {},
   "outputs": [],
   "source": []
  }
 ],
 "metadata": {
  "kernelspec": {
   "display_name": "Python 3 (ipykernel)",
   "language": "python",
   "name": "python3"
  },
  "language_info": {
   "codemirror_mode": {
    "name": "ipython",
    "version": 3
   },
   "file_extension": ".py",
   "mimetype": "text/x-python",
   "name": "python",
   "nbconvert_exporter": "python",
   "pygments_lexer": "ipython3",
   "version": "3.11.5"
  }
 },
 "nbformat": 4,
 "nbformat_minor": 5
}
